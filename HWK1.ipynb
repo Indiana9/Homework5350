{
 "cells": [
  {
   "cell_type": "code",
   "execution_count": 2,
   "metadata": {},
   "outputs": [
    {
     "name": "stdout",
     "output_type": "stream",
     "text": [
      "The computer guesses... 49\n",
      "The computer guesses... 25\n",
      "The computer guesses... 13\n",
      "The computer guesses... 19\n",
      "The computer guesses... 22\n",
      "The computer guesses... 24\n",
      "The computer guessed 23 and it was correct!\n"
     ]
    }
   ],
   "source": [
    "from random import randint\n",
    "\n",
    "def computer_guess(num):\n",
    "    low = 1\n",
    "    high = 100\n",
    "    guess = randint(1,100)\n",
    "    while guess != num:\n",
    "        print(\"The computer guesses...\", guess)\n",
    "        if guess > num:\n",
    "            high = guess\n",
    "        elif guess < num:\n",
    "            low = guess + 1\n",
    "    \n",
    "        guess = (low+high)//2    \n",
    "\n",
    "    print(\"The computer guessed\", guess, \"and it was correct!\")\n",
    "\n",
    "\n",
    "def main():\n",
    "    num = int(input(\"Enter a number: \"))\n",
    "    if num < 1 or num > 100:\n",
    "        print(\"Must be in range [1, 100]\")\n",
    "    else:\n",
    "        computer_guess(num)\n",
    "\n",
    "if __name__ == '__main__':\n",
    "    main()"
   ]
  },
  {
   "cell_type": "code",
   "execution_count": 1,
   "metadata": {},
   "outputs": [
    {
     "name": "stdout",
     "output_type": "stream",
     "text": [
      "The largest number of nuggets that I cannot get is: 43\n"
     ]
    }
   ],
   "source": [
    "def is_nugget_number(candidate, packets):\n",
    "    s = packets['s']\n",
    "    m = packets['m']\n",
    "    l = packets['l']\n",
    "    \n",
    "    for i in range(candidate//s + 1):\n",
    "        for j in range(candidate//m + 1):\n",
    "            for k in range(candidate//l + 1):\n",
    "                if(candidate == i*s + j*m + k*l):\n",
    "                    return True\n",
    "                \n",
    "    return False\n",
    "\n",
    "\n",
    "\n",
    "## main\n",
    "\n",
    "packets = {'s' : 6, 'm' : 9, 'l' : 20}\n",
    "\n",
    "# Is a given number a nugget number\n",
    "candidate = packets['s']\n",
    "\n",
    "# Keep track of how many candidates in a row are nugget numbers\n",
    "count = 0\n",
    "\n",
    "# Loop until stopping rule met\n",
    "while count < packets['s']:\n",
    "    if is_nugget_number(candidate, packets):\n",
    "        count += 1\n",
    "    else:\n",
    "        count = 0\n",
    "        largest = candidate\n",
    "    candidate += 1\n",
    "    \n",
    "print(f\"The largest number of nuggets that I cannot get is: {largest}\")"
   ]
  },
  {
   "cell_type": "code",
   "execution_count": null,
   "metadata": {},
   "outputs": [],
   "source": []
  }
 ],
 "metadata": {
  "kernelspec": {
   "display_name": "Python 3",
   "language": "python",
   "name": "python3"
  },
  "language_info": {
   "codemirror_mode": {
    "name": "ipython",
    "version": 3
   },
   "file_extension": ".py",
   "mimetype": "text/x-python",
   "name": "python",
   "nbconvert_exporter": "python",
   "pygments_lexer": "ipython3",
   "version": "3.6.5"
  }
 },
 "nbformat": 4,
 "nbformat_minor": 2
}
