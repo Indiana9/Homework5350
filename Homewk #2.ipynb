{
 "cells": [
  {
   "cell_type": "markdown",
   "metadata": {},
   "source": [
    "Homework #2"
   ]
  },
  {
   "cell_type": "code",
   "execution_count": 2,
   "metadata": {},
   "outputs": [],
   "source": [
    "import numpy as np\n",
    "from scipy.stats import binom"
   ]
  },
  {
   "cell_type": "code",
   "execution_count": 13,
   "metadata": {},
   "outputs": [],
   "source": [
    "## Call Payoff Function\n",
    "def callPayoff(spot, strike):\n",
    "    return np.maximum(spot - strike, 0.0)\n",
    "\n",
    "## Put Payoff Function\n",
    "def putPayoff(spot, strike):\n",
    "    return np.maximum(strike - spot, 0.0)"
   ]
  },
  {
   "cell_type": "code",
   "execution_count": 17,
   "metadata": {},
   "outputs": [],
   "source": [
    "def euroBinomPricerRecursiveMatrix(S, K, r, v, q, T, n, payoff, verbose = True):\n",
    "    nodes = n  + 1\n",
    "    h = T / n\n",
    "    u = 1.3\n",
    "    d = 0.8\n",
    "    pu = (np.exp((r - q) * h) - d) / (u - d)\n",
    "    pd = 1.0 - pu\n",
    "    disc = np.exp(-r * h)\n",
    "    \n",
    "    ## Arrays to store the spot prices and option values\n",
    "    Ct = np.zeros((nodes, n+1))\n",
    "    St = np.zeros((nodes, n+1))\n",
    "    Dt = np.zeros((nodes, n+1))\n",
    "    Bt = np.zeros((nodes, n+1))\n",
    "    \n",
    "    for i in range(nodes):\n",
    "        St[i, n] = S * (u**(n-i)) * (d**i)\n",
    "        Ct[i, n] = payoff(St[i, n], K)\n",
    "    \n",
    "\n",
    "    for t in range((n-1), -1, -1):\n",
    "        for j in range(t+1):\n",
    "            St[j, t] = St[j, t+1] / u\n",
    "            Ct[j, t] = disc * ((pu * Ct[j, t+1]) + (pd * Ct[j+1, t+1]))\n",
    "            delta = Dt[j, t] = np.exp(-q * h) * (Ct[j, t+1] - Ct[j+1, t+1]) / (St[j, t] * (u - d))\n",
    "            beta = Bt[j, t] = np.exp(-r * h) * (((u * Ct[j + 1, t+1]) - (d * Ct[j, t+ 1]))/(u - d))\n",
    "            print(f\"The beta is: {beta : 0.3f} and the delta is {delta : 0.3f}\")\n",
    "            \n",
    "    if verbose:\n",
    "        print(np.around(St, 3))\n",
    "        print(\"\\n\")\n",
    "        print(np.around(Ct, 3))\n",
    "        print(\"\\n\")\n",
    "        print(np.around(Dt, 3))\n",
    "        print(\"\\n\")\n",
    "        print(np.around(Bt, 3))         \n",
    "        print(\"\\n\")\n",
    "        \n",
    "    return Ct[0,0]"
   ]
  },
  {
   "cell_type": "code",
   "execution_count": 32,
   "metadata": {},
   "outputs": [],
   "source": [
    "def americanBinomPricerRecursive(S, K, r, v, q, T, n, payoff, verbose = True):\n",
    "    nodes = n  + 1\n",
    "    h = T / n\n",
    "    u = np.exp((r - q) * h + v * np.sqrt(h))\n",
    "    d = np.exp((r - q) * h - v * np.sqrt(h))\n",
    "    pu = (np.exp((r - q) * h) - d) / (u - d)\n",
    "    pd = 1.0 - pu\n",
    "    disc = np.exp(-r * h)\n",
    "    \n",
    "    \n",
    "    ## Arrays to store the spot prices and option values\n",
    "    Ct = np.empty(nodes)\n",
    "    St = np.empty(nodes)\n",
    "    \n",
    "    for i in range(nodes):\n",
    "        St[i] = S * (u ** (n - i)) * (d ** i)\n",
    "        Ct[i] = payoff(St[i], K)\n",
    "    \n",
    "    if verbose:\n",
    "        print(Ct)\n",
    "        \n",
    "    for t in range((n - 1), -1, -1):\n",
    "        for j in range(t+1):\n",
    "            Ct[j] = disc * (pu * Ct[j] + pd * Ct[j+1])\n",
    "            St[j] = St[j] / u\n",
    "            Ct[j] = np.maximum(Ct[j], payoff(St[j], K))\n",
    "            print(Ct)\n",
    "            \n",
    "    return Ct[0]"
   ]
  },
  {
   "cell_type": "markdown",
   "metadata": {},
   "source": [
    "Problem #1"
   ]
  },
  {
   "cell_type": "code",
   "execution_count": 19,
   "metadata": {},
   "outputs": [
    {
     "name": "stdout",
     "output_type": "stream",
     "text": [
      "The beta is: -38.432 and the delta is  0.500\n",
      "The beta is:  62.451 and the delta is -0.500\n",
      "The European Call Premium:  11.568 and the Put Premium is  12.451\n"
     ]
    }
   ],
   "source": [
    "S = 100\n",
    "K = 105\n",
    "r = 0.08\n",
    "v = 0.30\n",
    "q = 0.0\n",
    "T = 0.5\n",
    "n = 1\n",
    "\n",
    "callPrc = euroBinomPricerRecursiveMatrix(S, K, r, v, q, T, n, callPayoff,  verbose = False)\n",
    "putPrc = euroBinomPricerRecursiveMatrix(S, K, r, v, q, T, n, putPayoff,  verbose = False)\n",
    "print(f\"The European Call Premium: {callPrc : 0.3f} and the Put Premium is {putPrc : 0.3f}\")"
   ]
  },
  {
   "cell_type": "markdown",
   "metadata": {},
   "source": [
    "Problem #2"
   ]
  },
  {
   "cell_type": "code",
   "execution_count": 21,
   "metadata": {},
   "outputs": [
    {
     "name": "stdout",
     "output_type": "stream",
     "text": [
      "The beta is: -53.804 and the delta is  0.700\n",
      "The beta is:  37.471 and the delta is -0.300\n",
      "The European Call Premium:  16.196 and the Put Premium is  7.471\n"
     ]
    }
   ],
   "source": [
    "S = 100\n",
    "K = 95\n",
    "r = 0.08\n",
    "v = 0.30\n",
    "q = 0.0\n",
    "T = 0.5\n",
    "n = 1\n",
    "\n",
    "callPrc = euroBinomPricerRecursiveMatrix(S, K, r, v, q, T, n, callPayoff,  verbose = False)\n",
    "putPrc = euroBinomPricerRecursiveMatrix(S, K, r, v, q, T, n, putPayoff,  verbose = False)\n",
    "print(f\"The European Call Premium: {callPrc : 0.3f} and the Put Premium is {putPrc : 0.3f}\")"
   ]
  },
  {
   "cell_type": "markdown",
   "metadata": {},
   "source": [
    "Should long the call for the first on and short the second one. The payoff is $0.81 and $0.69"
   ]
  },
  {
   "cell_type": "code",
   "execution_count": 24,
   "metadata": {},
   "outputs": [
    {
     "name": "stdout",
     "output_type": "stream",
     "text": [
      "The beta is: -53.804 and the delta is  0.700\n",
      "[[100. 130.]\n",
      " [  0.  80.]]\n",
      "\n",
      "\n",
      "[[16.196 35.   ]\n",
      " [ 0.     0.   ]]\n",
      "\n",
      "\n",
      "[[0.7 0. ]\n",
      " [0.  0. ]]\n",
      "\n",
      "\n",
      "[[-53.804   0.   ]\n",
      " [  0.      0.   ]]\n",
      "\n",
      "\n",
      "The European Call Premium:  16.196\n"
     ]
    }
   ],
   "source": [
    "S = 100\n",
    "K = 95\n",
    "r = 0.08\n",
    "v = 0.30\n",
    "q = 0.0\n",
    "T = 0.5\n",
    "n = 1\n",
    "\n",
    "callPrc = euroBinomPricerRecursiveMatrix(S, K, r, v, q, T, n, callPayoff,  verbose = True)\n",
    "print(f\"The European Call Premium: {callPrc : 0.3f}\")"
   ]
  },
  {
   "cell_type": "markdown",
   "metadata": {},
   "source": [
    "Problem #4"
   ]
  },
  {
   "cell_type": "code",
   "execution_count": 25,
   "metadata": {},
   "outputs": [
    {
     "name": "stdout",
     "output_type": "stream",
     "text": [
      "The beta is: -93.742 and the delta is  1.000\n",
      "The beta is: -20.777 and the delta is  0.316\n",
      "The beta is:  0.000 and the delta is  0.000\n",
      "The beta is: -51.234 and the delta is  0.691\n",
      "The beta is: -8.751 and the delta is  0.173\n",
      "The beta is: -26.529 and the delta is  0.457\n",
      "The European Call Premium:  9.996\n"
     ]
    }
   ],
   "source": [
    "S = 80\n",
    "K = 95\n",
    "r = 0.08\n",
    "v = 0.30\n",
    "q = 0.0\n",
    "T = 0.5\n",
    "n = 3\n",
    "\n",
    "callPrc = euroBinomPricerRecursiveMatrix(S, K, r, v, q, T, n, callPayoff,  verbose = False)\n",
    "print(f\"The European Call Premium: {callPrc : 0.3f}\")"
   ]
  },
  {
   "cell_type": "code",
   "execution_count": 26,
   "metadata": {},
   "outputs": [
    {
     "name": "stdout",
     "output_type": "stream",
     "text": [
      "The beta is: -93.742 and the delta is  1.000\n",
      "The beta is: -42.123 and the delta is  0.570\n",
      "The beta is:  0.000 and the delta is  0.000\n",
      "The beta is: -63.306 and the delta is  0.805\n",
      "The beta is: -17.742 and the delta is  0.312\n",
      "The beta is: -36.698 and the delta is  0.582\n",
      "The European Call Premium:  15.707\n"
     ]
    }
   ],
   "source": [
    "S = 90\n",
    "K = 95\n",
    "r = 0.08\n",
    "v = 0.30\n",
    "q = 0.0\n",
    "T = 0.5\n",
    "n = 3\n",
    "\n",
    "callPrc = euroBinomPricerRecursiveMatrix(S, K, r, v, q, T, n, callPayoff,  verbose = False)\n",
    "print(f\"The European Call Premium: {callPrc : 0.3f}\")"
   ]
  },
  {
   "cell_type": "code",
   "execution_count": 27,
   "metadata": {},
   "outputs": [
    {
     "name": "stdout",
     "output_type": "stream",
     "text": [
      "The beta is: -93.742 and the delta is  1.000\n",
      "The beta is: -84.814 and the delta is  0.939\n",
      "The beta is:  0.000 and the delta is  0.000\n",
      "The beta is: -87.451 and the delta is  0.972\n",
      "The beta is: -35.723 and the delta is  0.514\n",
      "The beta is: -57.037 and the delta is  0.765\n",
      "The European Call Premium:  27.129\n"
     ]
    }
   ],
   "source": [
    "S = 110\n",
    "K = 95\n",
    "r = 0.08\n",
    "v = 0.30\n",
    "q = 0.0\n",
    "T = 0.5\n",
    "n = 3\n",
    "\n",
    "callPrc = euroBinomPricerRecursiveMatrix(S, K, r, v, q, T, n, callPayoff,  verbose = False)\n",
    "print(f\"The European Call Premium: {callPrc : 0.3f}\")"
   ]
  },
  {
   "cell_type": "code",
   "execution_count": 28,
   "metadata": {},
   "outputs": [
    {
     "name": "stdout",
     "output_type": "stream",
     "text": [
      "The beta is: -93.742 and the delta is  1.000\n",
      "The beta is: -93.742 and the delta is  1.000\n",
      "The beta is: -7.641 and the delta is  0.126\n",
      "The beta is: -92.500 and the delta is  1.000\n",
      "The beta is: -43.805 and the delta is  0.605\n",
      "The beta is: -63.735 and the delta is  0.821\n",
      "The European Call Premium:  34.796\n"
     ]
    }
   ],
   "source": [
    "S = 120\n",
    "K = 95\n",
    "r = 0.08\n",
    "v = 0.30\n",
    "q = 0.0\n",
    "T = 0.5\n",
    "n = 3\n",
    "\n",
    "callPrc = euroBinomPricerRecursiveMatrix(S, K, r, v, q, T, n, callPayoff,  verbose = False)\n",
    "print(f\"The European Call Premium: {callPrc : 0.3f}\")"
   ]
  },
  {
   "cell_type": "markdown",
   "metadata": {},
   "source": [
    "Delta increases over time"
   ]
  },
  {
   "cell_type": "markdown",
   "metadata": {},
   "source": [
    "Problem #5"
   ]
  },
  {
   "cell_type": "code",
   "execution_count": 36,
   "metadata": {},
   "outputs": [
    {
     "name": "stdout",
     "output_type": "stream",
     "text": [
      "[56.64406241 33.8147424   0.          0.        ]\n",
      "[56.64406241 15.04032855  0.          0.        ]\n",
      "[56.64406241 15.04032855  0.          0.        ]\n",
      "[33.14931753 15.04032855  0.          0.        ]\n",
      "[33.14931753  6.6897296   0.          0.        ]\n",
      "[18.28255221  6.6897296   0.          0.        ]\n",
      "The American Call Premium:  18.283\n"
     ]
    }
   ],
   "source": [
    "S = 100\n",
    "K = 95\n",
    "r = 0.08\n",
    "v = 0.30\n",
    "q = 0.0\n",
    "T = 1\n",
    "n = 3\n",
    "\n",
    "callPrc = americanBinomPricerRecursive(S, K, r, v, q, T, n, callPayoff,  verbose = False)\n",
    "print(f\"The American Call Premium: {callPrc : 0.3f}\")"
   ]
  },
  {
   "cell_type": "markdown",
   "metadata": {},
   "source": [
    "Ther is no early exercise"
   ]
  },
  {
   "cell_type": "code",
   "execution_count": 34,
   "metadata": {},
   "outputs": [
    {
     "name": "stdout",
     "output_type": "stream",
     "text": [
      "The beta is: -92.500 and the delta is  1.000\n",
      "The beta is: -62.627 and the delta is  0.773\n",
      "The beta is:  0.000 and the delta is  0.000\n",
      "The beta is: -74.186 and the delta is  0.903\n",
      "The beta is: -27.688 and the delta is  0.444\n",
      "The beta is: -47.516 and the delta is  0.708\n",
      "The European Call Premium:  23.306\n"
     ]
    }
   ],
   "source": [
    "S = 100\n",
    "K = 95\n",
    "r = 0.08\n",
    "v = 0.30\n",
    "q = 0.0\n",
    "T = 1\n",
    "n = 3\n",
    "\n",
    "callPrc = euroBinomPricerRecursiveMatrix(S, K, r, v, q, T, n, callPayoff,  verbose = False)\n",
    "print(f\"The European Call Premium: {callPrc : 0.3f}\")"
   ]
  },
  {
   "cell_type": "code",
   "execution_count": 37,
   "metadata": {},
   "outputs": [
    {
     "name": "stdout",
     "output_type": "stream",
     "text": [
      "[ 0.          0.          3.89933488 30.57157332]\n",
      "[ 0.          2.06235672  3.89933488 30.57157332]\n",
      "[ 0.          2.06235672 20.40351726 30.57157332]\n",
      "[ 1.09077967  2.06235672 20.40351726 30.57157332]\n",
      "[ 1.09077967 11.7087201  20.40351726 30.57157332]\n",
      "[ 6.67790123 11.7087201  20.40351726 30.57157332]\n",
      "The American Put Premium:  6.678\n"
     ]
    }
   ],
   "source": [
    "S = 100\n",
    "K = 95\n",
    "r = 0.08\n",
    "v = 0.30\n",
    "q = 0.0\n",
    "T = 1\n",
    "n = 3\n",
    "\n",
    "callPrc = americanBinomPricerRecursive(S, K, r, v, q, T, n, putPayoff,  verbose = False)\n",
    "print(f\"The American Put Premium: {callPrc : 0.3f}\")"
   ]
  },
  {
   "cell_type": "code",
   "execution_count": 38,
   "metadata": {},
   "outputs": [
    {
     "name": "stdout",
     "output_type": "stream",
     "text": [
      "The beta is:  0.000 and the delta is  0.000\n",
      "The beta is:  29.873 and the delta is -0.227\n",
      "The beta is:  92.500 and the delta is -1.000\n",
      "The beta is:  15.880 and the delta is -0.097\n",
      "The beta is:  62.378 and the delta is -0.556\n",
      "The beta is:  40.180 and the delta is -0.292\n",
      "The European Put Premium:  11.002\n"
     ]
    }
   ],
   "source": [
    "S = 100\n",
    "K = 95\n",
    "r = 0.08\n",
    "v = 0.30\n",
    "q = 0.0\n",
    "T = 1\n",
    "n = 3\n",
    "\n",
    "callPrc = euroBinomPricerRecursiveMatrix(S, K, r, v, q, T, n, putPayoff,  verbose = False)\n",
    "print(f\"The European Put Premium: {callPrc : 0.3f}\")"
   ]
  },
  {
   "cell_type": "markdown",
   "metadata": {},
   "source": [
    "The European Put is 11.002 and the American Put is 6.676. This means that there was some early exercises with the American option\n"
   ]
  },
  {
   "cell_type": "markdown",
   "metadata": {},
   "source": [
    "Problem #6"
   ]
  },
  {
   "cell_type": "code",
   "execution_count": 39,
   "metadata": {},
   "outputs": [
    {
     "name": "stdout",
     "output_type": "stream",
     "text": [
      "The beta is:  0.000 and the delta is  0.000\n",
      "The beta is:  17.241 and the delta is -0.323\n",
      "The beta is:  39.470 and the delta is -1.000\n",
      "The beta is:  9.751 and the delta is -0.146\n",
      "The beta is:  29.584 and the delta is -0.629\n",
      "The beta is:  20.839 and the delta is -0.365\n",
      "[[40.   52.   67.6  87.88]\n",
      " [ 0.   32.   41.6  54.08]\n",
      " [ 0.    0.   25.6  33.28]\n",
      " [ 0.    0.    0.   20.48]]\n",
      "\n",
      "\n",
      "[[ 6.247  2.149  0.     0.   ]\n",
      " [ 0.     9.445  3.801  0.   ]\n",
      " [ 0.     0.    13.87   6.72 ]\n",
      " [ 0.     0.     0.    19.52 ]]\n",
      "\n",
      "\n",
      "[[-0.365 -0.146  0.     0.   ]\n",
      " [ 0.    -0.629 -0.323  0.   ]\n",
      " [ 0.     0.    -1.     0.   ]\n",
      " [ 0.     0.     0.     0.   ]]\n",
      "\n",
      "\n",
      "[[20.839  9.751  0.     0.   ]\n",
      " [ 0.    29.584 17.241  0.   ]\n",
      " [ 0.     0.    39.47   0.   ]\n",
      " [ 0.     0.     0.     0.   ]]\n",
      "\n",
      "\n",
      "The European Put Premium:  6.247\n"
     ]
    }
   ],
   "source": [
    "S = 40\n",
    "K = 40\n",
    "r = 0.08\n",
    "v = 0.30\n",
    "q = 0.0\n",
    "T = 0.5\n",
    "n = 3\n",
    "\n",
    "callPrc = euroBinomPricerRecursiveMatrix(S, K, r, v, q, T, n, putPayoff,  verbose = True)\n",
    "print(f\"The European Put Premium: {callPrc : 0.3f}\")"
   ]
  },
  {
   "cell_type": "code",
   "execution_count": 40,
   "metadata": {},
   "outputs": [
    {
     "name": "stdout",
     "output_type": "stream",
     "text": [
      "The beta is: -39.470 and the delta is  1.000\n",
      "The beta is: -22.230 and the delta is  0.677\n",
      "The beta is:  0.000 and the delta is  0.000\n",
      "The beta is: -29.197 and the delta is  0.854\n",
      "The beta is: -9.363 and the delta is  0.371\n",
      "The beta is: -17.593 and the delta is  0.635\n",
      "The European Call Premium:  7.816\n"
     ]
    }
   ],
   "source": [
    "S = 40\n",
    "K = 40\n",
    "r = 0.08\n",
    "v = 0.30\n",
    "q = 0.0\n",
    "T = 0.5\n",
    "n = 3\n",
    "\n",
    "callPrc = euroBinomPricerRecursiveMatrix(S, K, r, v, q, T, n, callPayoff,  verbose = False)\n",
    "print(f\"The European Call Premium: {callPrc : 0.3f}\")"
   ]
  },
  {
   "cell_type": "code",
   "execution_count": 41,
   "metadata": {},
   "outputs": [
    {
     "name": "stdout",
     "output_type": "stream",
     "text": [
      "[ 0.          0.          3.16660277 11.16886174]\n",
      "[ 0.          1.65788424  3.16660277 11.16886174]\n",
      "[ 0.          1.65788424  7.84406148 11.16886174]\n",
      "[ 0.86799019  1.65788424  7.84406148 11.16886174]\n",
      "[ 0.86799019  4.8747172   7.84406148 11.16886174]\n",
      "[ 2.95422756  4.8747172   7.84406148 11.16886174]\n",
      "The American Put Premium:  2.954\n"
     ]
    }
   ],
   "source": [
    "S = 40\n",
    "K = 40\n",
    "r = 0.08\n",
    "v = 0.30\n",
    "q = 0.0\n",
    "T = 0.5\n",
    "n = 3\n",
    "\n",
    "callPrc = americanBinomPricerRecursive(S, K, r, v, q, T, n, putPayoff,  verbose = False)\n",
    "print(f\"The American Put Premium: {callPrc : 0.3f}\")"
   ]
  },
  {
   "cell_type": "code",
   "execution_count": 42,
   "metadata": {},
   "outputs": [
    {
     "name": "stdout",
     "output_type": "stream",
     "text": [
      "[13.01309727  7.05673217  0.          0.        ]\n",
      "[13.01309727  3.26869392  0.          0.        ]\n",
      "[13.01309727  3.26869392  0.          0.        ]\n",
      "[7.73902974 3.26869392 0.         0.        ]\n",
      "[7.73902974 1.51406624 0.         0.        ]\n",
      "[4.37742951 1.51406624 0.         0.        ]\n",
      "The American Call Premium:  4.377\n"
     ]
    }
   ],
   "source": [
    "S = 40\n",
    "K = 40\n",
    "r = 0.08\n",
    "v = 0.30\n",
    "q = 0.0\n",
    "T = 0.5\n",
    "n = 3\n",
    "\n",
    "callPrc = americanBinomPricerRecursive(S, K, r, v, q, T, n, callPayoff,  verbose = False)\n",
    "print(f\"The American Call Premium: {callPrc : 0.3f}\")"
   ]
  },
  {
   "cell_type": "code",
   "execution_count": null,
   "metadata": {},
   "outputs": [],
   "source": []
  }
 ],
 "metadata": {
  "kernelspec": {
   "display_name": "Python 3",
   "language": "python",
   "name": "python3"
  },
  "language_info": {
   "codemirror_mode": {
    "name": "ipython",
    "version": 3
   },
   "file_extension": ".py",
   "mimetype": "text/x-python",
   "name": "python",
   "nbconvert_exporter": "python",
   "pygments_lexer": "ipython3",
   "version": "3.6.5"
  }
 },
 "nbformat": 4,
 "nbformat_minor": 2
}
